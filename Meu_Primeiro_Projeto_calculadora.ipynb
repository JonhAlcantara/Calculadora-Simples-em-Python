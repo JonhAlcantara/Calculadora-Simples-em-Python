{
  "nbformat": 4,
  "nbformat_minor": 0,
  "metadata": {
    "colab": {
      "provenance": [],
      "authorship_tag": "ABX9TyOsh4Ecgq+9FLuaWV48UrPl",
      "include_colab_link": true
    },
    "kernelspec": {
      "name": "python3",
      "display_name": "Python 3"
    },
    "language_info": {
      "name": "python"
    }
  },
  "cells": [
    {
      "cell_type": "markdown",
      "metadata": {
        "id": "view-in-github",
        "colab_type": "text"
      },
      "source": [
        "<a href=\"https://colab.research.google.com/github/JonhAlcantara/Calculadora-Simples-em-Python/blob/main/Meu_Primeiro_Projeto_calculadora.ipynb\" target=\"_parent\"><img src=\"https://colab.research.google.com/assets/colab-badge.svg\" alt=\"Open In Colab\"/></a>"
      ]
    },
    {
      "cell_type": "code",
      "execution_count": null,
      "metadata": {
        "id": "_2qipFUuhu1o"
      },
      "outputs": [],
      "source": [
        "# Calculadora\n",
        "\n",
        "# 1. Recebe os números\n",
        "num1 = float(input(\"Digite o primeiro número: \"))\n",
        "num2 = float(input(\"Digite o segundo número: \"))\n",
        "\n",
        "# 2. Escolhe a operação\n",
        "print(\"Escolha a operação:\")\n",
        "print(\"1 - Soma\")\n",
        "print(\"2 - Subtração\")\n",
        "print(\"3 - Multiplicação\")\n",
        "print(\"4 - Divisão\")\n",
        "op = input(\"Digite o número da operação: \")\n",
        "\n",
        "# 3 e 4. Executa e mostra o resultado\n",
        "if op == \"1\":\n",
        "    print(\"Resultado:\", num1 + num2)\n",
        "elif op == \"2\":\n",
        "    print(\"Resultado:\", num1 - num2)\n",
        "elif op == \"3\":\n",
        "    print(\"Resultado:\", num1 * num2)\n",
        "elif op == \"4\":\n",
        "    print(\"Resultado:\", num1 / num2)\n",
        "else:\n",
        "    print(\"Operação inválida.\")"
      ]
    }
  ]
}